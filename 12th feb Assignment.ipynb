{
 "cells": [
  {
   "cell_type": "markdown",
   "id": "1e3b2c86-cc73-4a8f-a7dc-f59eeedcb8ef",
   "metadata": {
    "tags": []
   },
   "source": [
    "### What is exception handling in Python?What is the difference between Exceptions and syntax errors?\n"
   ]
  },
  {
   "cell_type": "markdown",
   "id": "fb3b6371-5066-4f2b-8aea-05ff6bd8c391",
   "metadata": {},
   "source": [
    "Exception handling is a mechanism in Python that allows you to handle runtime errors or exceptional conditions that may occur while your program is running. When an exception occurs, it interrupts the normal flow of the program and can cause it to terminate prematurely. Exception handling allows you to catch these exceptions and gracefully handle them, allowing your program to continue running.\n",
    "\n",
    "In Python, you use the try-except statement to handle exceptions. The code that might raise an exception is placed in the try block, while the code that handles the exception is placed in the except block. If an exception is raised in the try block, the program will jump to the except block, which will handle the exception and allow the program to continue running.\n",
    "\n",
    "Syntax errors, on the other hand, occur when you make a mistake in the syntax of your code. These errors are detected by the Python interpreter when it tries to compile your code and will prevent your program from running at all. Syntax errors are often caused by misspelled keywords, missing punctuation, or incorrect indentation.\n",
    "\n",
    "The main difference between exceptions and syntax errors is that syntax errors occur during the parsing or compiling of your code, while exceptions occur during the runtime of your code. Exceptions are raised when the program encounters an error that it cannot handle, while syntax errors are raised when the interpreter cannot parse your code. Syntax errors must be fixed before the program can run, while exceptions can be handled within the program to allow it to continue running."
   ]
  },
  {
   "cell_type": "markdown",
   "id": "46877374-aaa3-476c-bb9a-9f4a6c1c3b00",
   "metadata": {},
   "source": [
    "### What happens when an exception is not handled?"
   ]
  },
  {
   "cell_type": "markdown",
   "id": "36ec859f-7e36-4852-a107-39c314acf21a",
   "metadata": {},
   "source": [
    "When an exception is not handled, it will propagate up the call stack until it is handled by a try-except block that is able to handle it, or until it reaches the top of the call stack, at which point the program will terminate with an error message.\n",
    "\n",
    "If an exception is not handled, it can have several negative consequences:\n",
    "\n",
    "Program termination: If an unhandled exception is raised, the program will terminate abruptly and without warning. This can leave the user confused and frustrated, and can also lead to data loss if the program was in the middle of performing a critical operation.\n",
    "\n",
    "Security vulnerabilities: Unhandled exceptions can potentially leave your program vulnerable to security exploits. If an attacker is able to cause your program to raise an exception that is not handled, they may be able to execute arbitrary code or gain access to sensitive data.\n",
    "\n",
    "Resource leaks: If an exception is not handled properly, it can cause resource leaks, such as leaving files or network connections open. This can cause your program to run out of resources over time, leading to performance degradation or crashes.\n",
    "\n",
    "Overall, it's important to handle exceptions in your code to ensure that your program runs smoothly and reliably, and to prevent unexpected errors and security vulnerabilities."
   ]
  },
  {
   "cell_type": "markdown",
   "id": "daee4027-fd9a-40d1-a580-1caecd4e40c9",
   "metadata": {},
   "source": [
    "### Which Python statements aare used to handle and catch exceptions? Explain with example."
   ]
  },
  {
   "cell_type": "markdown",
   "id": "3c8190a5-6115-466f-a8b6-413958074bd2",
   "metadata": {},
   "source": [
    "In Python, you can use the try and except statements to handle and catch exceptions. "
   ]
  },
  {
   "cell_type": "code",
   "execution_count": 24,
   "id": "a9b6c4e7-71fe-4ae4-be76-e9743c616cf7",
   "metadata": {},
   "outputs": [],
   "source": [
    "import logging\n",
    "logging.basicConfig(filename=\"error.log\",level=logging.ERROR)"
   ]
  },
  {
   "cell_type": "code",
   "execution_count": 25,
   "id": "116f4887-12ef-4dd1-89d2-8b0bbbc81014",
   "metadata": {},
   "outputs": [
    {
     "name": "stderr",
     "output_type": "stream",
     "text": [
      "ERROR:root:I am trying to handle a ZeroDivision errordivision by zero\n"
     ]
    }
   ],
   "source": [
    "try:\n",
    "    10/0\n",
    "except ZeroDivisionError as e:\n",
    "    logging.error(\"I am trying to handle a ZeroDivision error{}\".format(e))\n",
    "    "
   ]
  },
  {
   "cell_type": "markdown",
   "id": "37295667-82af-4152-adaa-e95ae1b225dd",
   "metadata": {},
   "source": [
    "### With an example : try and else"
   ]
  },
  {
   "cell_type": "code",
   "execution_count": 26,
   "id": "dc3b49ec-b20a-44ca-855a-f61a0fb46676",
   "metadata": {},
   "outputs": [],
   "source": [
    "import logging"
   ]
  },
  {
   "cell_type": "code",
   "execution_count": 27,
   "id": "eb4f3712-3156-4ea4-8dd8-7c8450b1505a",
   "metadata": {},
   "outputs": [],
   "source": [
    "logging.basicConfig(filename = \"test.log\" ,level = logging.INFO)"
   ]
  },
  {
   "cell_type": "code",
   "execution_count": 28,
   "id": "3e866c34-af86-4411-a604-73525c8bb71d",
   "metadata": {},
   "outputs": [],
   "source": [
    "try:\n",
    "    f=open(\"pw.txt\",\"w\")\n",
    "    f.write(\"write it\")\n",
    "    f.close()\n",
    "except Exception as e:\n",
    "    logging.error(\"this is my line\",e)\n",
    "else:\n",
    "    f.close()\n",
    "    logging.info(\"this will be executed once try block block is executed without error\")"
   ]
  },
  {
   "cell_type": "code",
   "execution_count": 29,
   "id": "e5b7f2dc-c855-40dc-bd2a-002402e6d2c6",
   "metadata": {},
   "outputs": [],
   "source": [
    "try:\n",
    "    f=open(\"pw.txt\",\"a\")\n",
    "    f.write(\"THIS IS DATA SCIENCE COURSE ASSIGNMENT\")\n",
    "finally:\n",
    "    f.close()"
   ]
  },
  {
   "cell_type": "code",
   "execution_count": 30,
   "id": "f1686b4f-890f-4507-8ffc-a886c99accaa",
   "metadata": {},
   "outputs": [],
   "source": [
    "class validateage(Exception):\n",
    "    \n",
    "    def __init__(self , msg) : \n",
    "        self.msg = msg"
   ]
  },
  {
   "cell_type": "code",
   "execution_count": 31,
   "id": "83853c1a-cacc-4878-8b79-d68cc27f1c2b",
   "metadata": {},
   "outputs": [],
   "source": [
    " def validaetage(age) : \n",
    "    if age < 0 :\n",
    "        raise validateage(\"entered age is negative \" )\n",
    "    elif age > 200 : \n",
    "        raise validateage(\"enterd age is very very high \" )\n",
    "    else :\n",
    "        print(\"age is valid\" ) "
   ]
  },
  {
   "cell_type": "code",
   "execution_count": 33,
   "id": "47343a7c-a8b3-4144-93b8-c6848d4dff12",
   "metadata": {},
   "outputs": [
    {
     "name": "stdin",
     "output_type": "stream",
     "text": [
      "enter your age 25\n"
     ]
    },
    {
     "name": "stdout",
     "output_type": "stream",
     "text": [
      "age is valid\n"
     ]
    }
   ],
   "source": [
    "try :\n",
    "    age = int(input(\"enter your age\" ))\n",
    "    validaetage(age)\n",
    "except validateage as e :\n",
    "    print(e)"
   ]
  },
  {
   "cell_type": "markdown",
   "id": "cb7b30c3-0e90-41f3-b76b-d4215ac31261",
   "metadata": {},
   "source": [
    "### What are custom exceptions in python? Why do we need custom exceptions? Explain with examples."
   ]
  },
  {
   "cell_type": "markdown",
   "id": "9f60328c-2a62-4743-abe6-ff96f9755456",
   "metadata": {},
   "source": [
    "In Python, an exception is an error that occurs during program execution. It's a way of letting you know that something has gone wrong and the program cannot continue as expected. Python provides many built-in exceptions like ValueError, TypeError, etc. However, sometimes you may want to define your own exception that suits your specific needs. These are called custom exceptions.\n",
    "\n",
    "Custom exceptions allow you to create your own error types that can be raised and caught like built-in exceptions. You can define your own exception class by subclassing any of the built-in exception classes. Your custom exception class should typically inherit from the Exception class or one of its subclasses.\n",
    "\n",
    "We need custom exceptions in Python for various reasons, such as:\n",
    "\n",
    "To provide a more specific error message to the user.\n",
    "To handle specific types of errors in a more elegant way.\n",
    "To make the code more readable and maintainable by separating error handling code from the main code.\n",
    "Here's an example of how to define a custom exception in Python:\n",
    "\n"
   ]
  },
  {
   "cell_type": "code",
   "execution_count": 34,
   "id": "66f2ff14-0abd-4cc8-84e1-fcccd6d8c00e",
   "metadata": {},
   "outputs": [
    {
     "name": "stdin",
     "output_type": "stream",
     "text": [
      "Enter age:  56\n"
     ]
    },
    {
     "name": "stdout",
     "output_type": "stream",
     "text": [
      "You are not a minor\n"
     ]
    }
   ],
   "source": [
    "import logging\n",
    "\n",
    "class minorage():\n",
    "    def __init__(self, age):\n",
    "        self.age = age\n",
    "\n",
    "    def check_age(self):\n",
    "        if self.age < 18:\n",
    "            raise ValueError(\"You are a minor\")\n",
    "        elif self.age > 120 or self.age < 0:\n",
    "            raise ValueError(\"Incorrect age\")\n",
    "        else:\n",
    "            print(\"You are not a minor\")\n",
    "\n",
    "try:\n",
    "    Age = int(input(\"Enter age: \"))\n",
    "    p = minorage(Age)\n",
    "    p.check_age()\n",
    "except ValueError as e:\n",
    "    logging.error(e)\n"
   ]
  },
  {
   "cell_type": "markdown",
   "id": "d1f5f66e-3b29-4654-9fc3-dcbd0ee7aff6",
   "metadata": {},
   "source": [
    "### Use the custom exception class.Use this class to handle an exception"
   ]
  },
  {
   "cell_type": "code",
   "execution_count": 5,
   "id": "c97aa345-3047-437e-823c-4564cb90ba58",
   "metadata": {},
   "outputs": [],
   "source": [
    "import logging "
   ]
  },
  {
   "cell_type": "code",
   "execution_count": 14,
   "id": "92221e25-0056-4e82-b5e1-b76d36b00aa8",
   "metadata": {},
   "outputs": [],
   "source": [
    "class positivenumber(Exception):\n",
    "    \n",
    "    def __init_(self,number):\n",
    "        self.number=number\n",
    "    "
   ]
  },
  {
   "cell_type": "code",
   "execution_count": 9,
   "id": "5f2a3e3b-4536-48a8-85a1-f622017cb190",
   "metadata": {},
   "outputs": [],
   "source": [
    "def positivenum(number):\n",
    "    if number < 0:\n",
    "        raise positivenumber (\"Entered number is negative\")\n",
    "        \n",
    "    else:\n",
    "        print(\"Entered number is positive\")"
   ]
  },
  {
   "cell_type": "code",
   "execution_count": 15,
   "id": "d04fee03-76f3-425a-923c-e262b9577794",
   "metadata": {},
   "outputs": [
    {
     "name": "stdin",
     "output_type": "stream",
     "text": [
      "Please enter a Number : -5\n"
     ]
    },
    {
     "name": "stderr",
     "output_type": "stream",
     "text": [
      "ERROR:root:Entered number is negative\n"
     ]
    }
   ],
   "source": [
    "try:\n",
    "    number =int(input(\"Please enter a Number :\"))\n",
    "    positivenum(number)\n",
    "                   \n",
    "except positivenumber as e:\n",
    "        logging.error(e)                 "
   ]
  }
 ],
 "metadata": {
  "kernelspec": {
   "display_name": "Python 3 (ipykernel)",
   "language": "python",
   "name": "python3"
  },
  "language_info": {
   "codemirror_mode": {
    "name": "ipython",
    "version": 3
   },
   "file_extension": ".py",
   "mimetype": "text/x-python",
   "name": "python",
   "nbconvert_exporter": "python",
   "pygments_lexer": "ipython3",
   "version": "3.10.8"
  }
 },
 "nbformat": 4,
 "nbformat_minor": 5
}
